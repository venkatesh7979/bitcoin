{
 "cells": [
  {
   "cell_type": "markdown",
   "metadata": {},
   "source": [
    "# Bit coin prices"
   ]
  },
  {
   "cell_type": "markdown",
   "metadata": {},
   "source": [
    "Import Libraries"
   ]
  },
  {
   "cell_type": "code",
   "execution_count": 1,
   "metadata": {},
   "outputs": [],
   "source": [
    "import numpy as np\n",
    "import matplotlib.pyplot as plt\n",
    "import pandas as pd\n",
    "import urllib.request\n",
    "import json"
   ]
  },
  {
   "cell_type": "markdown",
   "metadata": {},
   "source": [
    "Get the prices and make it as a DataFrame"
   ]
  },
  {
   "cell_type": "code",
   "execution_count": 143,
   "metadata": {},
   "outputs": [
    {
     "ename": "KeyboardInterrupt",
     "evalue": "",
     "output_type": "error",
     "traceback": [
      "\u001b[1;31m---------------------------------------------------------------------------\u001b[0m",
      "\u001b[1;31mKeyboardInterrupt\u001b[0m                         Traceback (most recent call last)",
      "\u001b[1;32m<ipython-input-143-7200d477f364>\u001b[0m in \u001b[0;36m<module>\u001b[1;34m\u001b[0m\n\u001b[0;32m      8\u001b[0m         \u001b[0mend\u001b[0m\u001b[1;33m=\u001b[0m\u001b[0myear\u001b[0m\u001b[1;33m+\u001b[0m\u001b[1;34m'-'\u001b[0m\u001b[1;33m+\u001b[0m\u001b[0mmonths\u001b[0m\u001b[1;33m[\u001b[0m\u001b[0mi\u001b[0m\u001b[1;33m+\u001b[0m\u001b[1;36m1\u001b[0m\u001b[1;33m]\u001b[0m\u001b[1;33m+\u001b[0m\u001b[1;34m'-01'\u001b[0m\u001b[1;33m\u001b[0m\u001b[1;33m\u001b[0m\u001b[0m\n\u001b[0;32m      9\u001b[0m         \u001b[0murl\u001b[0m \u001b[1;33m=\u001b[0m \u001b[1;34m'https://api.nomics.com/v1/currencies/sparkline?key=63a6fb7bcdc2345fac6baed3afd92150&ids=BTC&start='\u001b[0m\u001b[1;33m+\u001b[0m\u001b[0mstart\u001b[0m\u001b[1;33m+\u001b[0m\u001b[1;34m'T00%3A00%3A00Z&end='\u001b[0m\u001b[1;33m+\u001b[0m\u001b[0mend\u001b[0m\u001b[1;33m+\u001b[0m\u001b[1;34m'T00%3A00%3A00Z'\u001b[0m\u001b[1;33m\u001b[0m\u001b[1;33m\u001b[0m\u001b[0m\n\u001b[1;32m---> 10\u001b[1;33m         \u001b[0mk\u001b[0m\u001b[1;33m=\u001b[0m\u001b[0murllib\u001b[0m\u001b[1;33m.\u001b[0m\u001b[0mrequest\u001b[0m\u001b[1;33m.\u001b[0m\u001b[0murlopen\u001b[0m\u001b[1;33m(\u001b[0m\u001b[0murl\u001b[0m\u001b[1;33m)\u001b[0m\u001b[1;33m.\u001b[0m\u001b[0mread\u001b[0m\u001b[1;33m(\u001b[0m\u001b[1;33m)\u001b[0m\u001b[1;33m\u001b[0m\u001b[1;33m\u001b[0m\u001b[0m\n\u001b[0m\u001b[0;32m     11\u001b[0m         \u001b[0mo\u001b[0m\u001b[1;33m=\u001b[0m\u001b[0mjson\u001b[0m\u001b[1;33m.\u001b[0m\u001b[0mloads\u001b[0m\u001b[1;33m(\u001b[0m\u001b[0mk\u001b[0m\u001b[1;33m)\u001b[0m\u001b[1;33m\u001b[0m\u001b[1;33m\u001b[0m\u001b[0m\n\u001b[0;32m     12\u001b[0m         \u001b[0mtimes\u001b[0m\u001b[1;33m+=\u001b[0m\u001b[0mo\u001b[0m\u001b[1;33m[\u001b[0m\u001b[1;36m0\u001b[0m\u001b[1;33m]\u001b[0m\u001b[1;33m[\u001b[0m\u001b[1;34m'timestamps'\u001b[0m\u001b[1;33m]\u001b[0m\u001b[1;33m\u001b[0m\u001b[1;33m\u001b[0m\u001b[0m\n",
      "\u001b[1;32m~\\anaconda3\\lib\\urllib\\request.py\u001b[0m in \u001b[0;36murlopen\u001b[1;34m(url, data, timeout, cafile, capath, cadefault, context)\u001b[0m\n\u001b[0;32m    220\u001b[0m     \u001b[1;32melse\u001b[0m\u001b[1;33m:\u001b[0m\u001b[1;33m\u001b[0m\u001b[1;33m\u001b[0m\u001b[0m\n\u001b[0;32m    221\u001b[0m         \u001b[0mopener\u001b[0m \u001b[1;33m=\u001b[0m \u001b[0m_opener\u001b[0m\u001b[1;33m\u001b[0m\u001b[1;33m\u001b[0m\u001b[0m\n\u001b[1;32m--> 222\u001b[1;33m     \u001b[1;32mreturn\u001b[0m \u001b[0mopener\u001b[0m\u001b[1;33m.\u001b[0m\u001b[0mopen\u001b[0m\u001b[1;33m(\u001b[0m\u001b[0murl\u001b[0m\u001b[1;33m,\u001b[0m \u001b[0mdata\u001b[0m\u001b[1;33m,\u001b[0m \u001b[0mtimeout\u001b[0m\u001b[1;33m)\u001b[0m\u001b[1;33m\u001b[0m\u001b[1;33m\u001b[0m\u001b[0m\n\u001b[0m\u001b[0;32m    223\u001b[0m \u001b[1;33m\u001b[0m\u001b[0m\n\u001b[0;32m    224\u001b[0m \u001b[1;32mdef\u001b[0m \u001b[0minstall_opener\u001b[0m\u001b[1;33m(\u001b[0m\u001b[0mopener\u001b[0m\u001b[1;33m)\u001b[0m\u001b[1;33m:\u001b[0m\u001b[1;33m\u001b[0m\u001b[1;33m\u001b[0m\u001b[0m\n",
      "\u001b[1;32m~\\anaconda3\\lib\\urllib\\request.py\u001b[0m in \u001b[0;36mopen\u001b[1;34m(self, fullurl, data, timeout)\u001b[0m\n\u001b[0;32m    523\u001b[0m \u001b[1;33m\u001b[0m\u001b[0m\n\u001b[0;32m    524\u001b[0m         \u001b[0msys\u001b[0m\u001b[1;33m.\u001b[0m\u001b[0maudit\u001b[0m\u001b[1;33m(\u001b[0m\u001b[1;34m'urllib.Request'\u001b[0m\u001b[1;33m,\u001b[0m \u001b[0mreq\u001b[0m\u001b[1;33m.\u001b[0m\u001b[0mfull_url\u001b[0m\u001b[1;33m,\u001b[0m \u001b[0mreq\u001b[0m\u001b[1;33m.\u001b[0m\u001b[0mdata\u001b[0m\u001b[1;33m,\u001b[0m \u001b[0mreq\u001b[0m\u001b[1;33m.\u001b[0m\u001b[0mheaders\u001b[0m\u001b[1;33m,\u001b[0m \u001b[0mreq\u001b[0m\u001b[1;33m.\u001b[0m\u001b[0mget_method\u001b[0m\u001b[1;33m(\u001b[0m\u001b[1;33m)\u001b[0m\u001b[1;33m)\u001b[0m\u001b[1;33m\u001b[0m\u001b[1;33m\u001b[0m\u001b[0m\n\u001b[1;32m--> 525\u001b[1;33m         \u001b[0mresponse\u001b[0m \u001b[1;33m=\u001b[0m \u001b[0mself\u001b[0m\u001b[1;33m.\u001b[0m\u001b[0m_open\u001b[0m\u001b[1;33m(\u001b[0m\u001b[0mreq\u001b[0m\u001b[1;33m,\u001b[0m \u001b[0mdata\u001b[0m\u001b[1;33m)\u001b[0m\u001b[1;33m\u001b[0m\u001b[1;33m\u001b[0m\u001b[0m\n\u001b[0m\u001b[0;32m    526\u001b[0m \u001b[1;33m\u001b[0m\u001b[0m\n\u001b[0;32m    527\u001b[0m         \u001b[1;31m# post-process response\u001b[0m\u001b[1;33m\u001b[0m\u001b[1;33m\u001b[0m\u001b[1;33m\u001b[0m\u001b[0m\n",
      "\u001b[1;32m~\\anaconda3\\lib\\urllib\\request.py\u001b[0m in \u001b[0;36m_open\u001b[1;34m(self, req, data)\u001b[0m\n\u001b[0;32m    540\u001b[0m \u001b[1;33m\u001b[0m\u001b[0m\n\u001b[0;32m    541\u001b[0m         \u001b[0mprotocol\u001b[0m \u001b[1;33m=\u001b[0m \u001b[0mreq\u001b[0m\u001b[1;33m.\u001b[0m\u001b[0mtype\u001b[0m\u001b[1;33m\u001b[0m\u001b[1;33m\u001b[0m\u001b[0m\n\u001b[1;32m--> 542\u001b[1;33m         result = self._call_chain(self.handle_open, protocol, protocol +\n\u001b[0m\u001b[0;32m    543\u001b[0m                                   '_open', req)\n\u001b[0;32m    544\u001b[0m         \u001b[1;32mif\u001b[0m \u001b[0mresult\u001b[0m\u001b[1;33m:\u001b[0m\u001b[1;33m\u001b[0m\u001b[1;33m\u001b[0m\u001b[0m\n",
      "\u001b[1;32m~\\anaconda3\\lib\\urllib\\request.py\u001b[0m in \u001b[0;36m_call_chain\u001b[1;34m(self, chain, kind, meth_name, *args)\u001b[0m\n\u001b[0;32m    500\u001b[0m         \u001b[1;32mfor\u001b[0m \u001b[0mhandler\u001b[0m \u001b[1;32min\u001b[0m \u001b[0mhandlers\u001b[0m\u001b[1;33m:\u001b[0m\u001b[1;33m\u001b[0m\u001b[1;33m\u001b[0m\u001b[0m\n\u001b[0;32m    501\u001b[0m             \u001b[0mfunc\u001b[0m \u001b[1;33m=\u001b[0m \u001b[0mgetattr\u001b[0m\u001b[1;33m(\u001b[0m\u001b[0mhandler\u001b[0m\u001b[1;33m,\u001b[0m \u001b[0mmeth_name\u001b[0m\u001b[1;33m)\u001b[0m\u001b[1;33m\u001b[0m\u001b[1;33m\u001b[0m\u001b[0m\n\u001b[1;32m--> 502\u001b[1;33m             \u001b[0mresult\u001b[0m \u001b[1;33m=\u001b[0m \u001b[0mfunc\u001b[0m\u001b[1;33m(\u001b[0m\u001b[1;33m*\u001b[0m\u001b[0margs\u001b[0m\u001b[1;33m)\u001b[0m\u001b[1;33m\u001b[0m\u001b[1;33m\u001b[0m\u001b[0m\n\u001b[0m\u001b[0;32m    503\u001b[0m             \u001b[1;32mif\u001b[0m \u001b[0mresult\u001b[0m \u001b[1;32mis\u001b[0m \u001b[1;32mnot\u001b[0m \u001b[1;32mNone\u001b[0m\u001b[1;33m:\u001b[0m\u001b[1;33m\u001b[0m\u001b[1;33m\u001b[0m\u001b[0m\n\u001b[0;32m    504\u001b[0m                 \u001b[1;32mreturn\u001b[0m \u001b[0mresult\u001b[0m\u001b[1;33m\u001b[0m\u001b[1;33m\u001b[0m\u001b[0m\n",
      "\u001b[1;32m~\\anaconda3\\lib\\urllib\\request.py\u001b[0m in \u001b[0;36mhttps_open\u001b[1;34m(self, req)\u001b[0m\n\u001b[0;32m   1391\u001b[0m \u001b[1;33m\u001b[0m\u001b[0m\n\u001b[0;32m   1392\u001b[0m         \u001b[1;32mdef\u001b[0m \u001b[0mhttps_open\u001b[0m\u001b[1;33m(\u001b[0m\u001b[0mself\u001b[0m\u001b[1;33m,\u001b[0m \u001b[0mreq\u001b[0m\u001b[1;33m)\u001b[0m\u001b[1;33m:\u001b[0m\u001b[1;33m\u001b[0m\u001b[1;33m\u001b[0m\u001b[0m\n\u001b[1;32m-> 1393\u001b[1;33m             return self.do_open(http.client.HTTPSConnection, req,\n\u001b[0m\u001b[0;32m   1394\u001b[0m                 context=self._context, check_hostname=self._check_hostname)\n\u001b[0;32m   1395\u001b[0m \u001b[1;33m\u001b[0m\u001b[0m\n",
      "\u001b[1;32m~\\anaconda3\\lib\\urllib\\request.py\u001b[0m in \u001b[0;36mdo_open\u001b[1;34m(self, http_class, req, **http_conn_args)\u001b[0m\n\u001b[0;32m   1348\u001b[0m         \u001b[1;32mtry\u001b[0m\u001b[1;33m:\u001b[0m\u001b[1;33m\u001b[0m\u001b[1;33m\u001b[0m\u001b[0m\n\u001b[0;32m   1349\u001b[0m             \u001b[1;32mtry\u001b[0m\u001b[1;33m:\u001b[0m\u001b[1;33m\u001b[0m\u001b[1;33m\u001b[0m\u001b[0m\n\u001b[1;32m-> 1350\u001b[1;33m                 h.request(req.get_method(), req.selector, req.data, headers,\n\u001b[0m\u001b[0;32m   1351\u001b[0m                           encode_chunked=req.has_header('Transfer-encoding'))\n\u001b[0;32m   1352\u001b[0m             \u001b[1;32mexcept\u001b[0m \u001b[0mOSError\u001b[0m \u001b[1;32mas\u001b[0m \u001b[0merr\u001b[0m\u001b[1;33m:\u001b[0m \u001b[1;31m# timeout error\u001b[0m\u001b[1;33m\u001b[0m\u001b[1;33m\u001b[0m\u001b[0m\n",
      "\u001b[1;32m~\\anaconda3\\lib\\http\\client.py\u001b[0m in \u001b[0;36mrequest\u001b[1;34m(self, method, url, body, headers, encode_chunked)\u001b[0m\n\u001b[0;32m   1253\u001b[0m                 encode_chunked=False):\n\u001b[0;32m   1254\u001b[0m         \u001b[1;34m\"\"\"Send a complete request to the server.\"\"\"\u001b[0m\u001b[1;33m\u001b[0m\u001b[1;33m\u001b[0m\u001b[0m\n\u001b[1;32m-> 1255\u001b[1;33m         \u001b[0mself\u001b[0m\u001b[1;33m.\u001b[0m\u001b[0m_send_request\u001b[0m\u001b[1;33m(\u001b[0m\u001b[0mmethod\u001b[0m\u001b[1;33m,\u001b[0m \u001b[0murl\u001b[0m\u001b[1;33m,\u001b[0m \u001b[0mbody\u001b[0m\u001b[1;33m,\u001b[0m \u001b[0mheaders\u001b[0m\u001b[1;33m,\u001b[0m \u001b[0mencode_chunked\u001b[0m\u001b[1;33m)\u001b[0m\u001b[1;33m\u001b[0m\u001b[1;33m\u001b[0m\u001b[0m\n\u001b[0m\u001b[0;32m   1256\u001b[0m \u001b[1;33m\u001b[0m\u001b[0m\n\u001b[0;32m   1257\u001b[0m     \u001b[1;32mdef\u001b[0m \u001b[0m_send_request\u001b[0m\u001b[1;33m(\u001b[0m\u001b[0mself\u001b[0m\u001b[1;33m,\u001b[0m \u001b[0mmethod\u001b[0m\u001b[1;33m,\u001b[0m \u001b[0murl\u001b[0m\u001b[1;33m,\u001b[0m \u001b[0mbody\u001b[0m\u001b[1;33m,\u001b[0m \u001b[0mheaders\u001b[0m\u001b[1;33m,\u001b[0m \u001b[0mencode_chunked\u001b[0m\u001b[1;33m)\u001b[0m\u001b[1;33m:\u001b[0m\u001b[1;33m\u001b[0m\u001b[1;33m\u001b[0m\u001b[0m\n",
      "\u001b[1;32m~\\anaconda3\\lib\\http\\client.py\u001b[0m in \u001b[0;36m_send_request\u001b[1;34m(self, method, url, body, headers, encode_chunked)\u001b[0m\n\u001b[0;32m   1299\u001b[0m             \u001b[1;31m# default charset of iso-8859-1.\u001b[0m\u001b[1;33m\u001b[0m\u001b[1;33m\u001b[0m\u001b[1;33m\u001b[0m\u001b[0m\n\u001b[0;32m   1300\u001b[0m             \u001b[0mbody\u001b[0m \u001b[1;33m=\u001b[0m \u001b[0m_encode\u001b[0m\u001b[1;33m(\u001b[0m\u001b[0mbody\u001b[0m\u001b[1;33m,\u001b[0m \u001b[1;34m'body'\u001b[0m\u001b[1;33m)\u001b[0m\u001b[1;33m\u001b[0m\u001b[1;33m\u001b[0m\u001b[0m\n\u001b[1;32m-> 1301\u001b[1;33m         \u001b[0mself\u001b[0m\u001b[1;33m.\u001b[0m\u001b[0mendheaders\u001b[0m\u001b[1;33m(\u001b[0m\u001b[0mbody\u001b[0m\u001b[1;33m,\u001b[0m \u001b[0mencode_chunked\u001b[0m\u001b[1;33m=\u001b[0m\u001b[0mencode_chunked\u001b[0m\u001b[1;33m)\u001b[0m\u001b[1;33m\u001b[0m\u001b[1;33m\u001b[0m\u001b[0m\n\u001b[0m\u001b[0;32m   1302\u001b[0m \u001b[1;33m\u001b[0m\u001b[0m\n\u001b[0;32m   1303\u001b[0m     \u001b[1;32mdef\u001b[0m \u001b[0mgetresponse\u001b[0m\u001b[1;33m(\u001b[0m\u001b[0mself\u001b[0m\u001b[1;33m)\u001b[0m\u001b[1;33m:\u001b[0m\u001b[1;33m\u001b[0m\u001b[1;33m\u001b[0m\u001b[0m\n",
      "\u001b[1;32m~\\anaconda3\\lib\\http\\client.py\u001b[0m in \u001b[0;36mendheaders\u001b[1;34m(self, message_body, encode_chunked)\u001b[0m\n\u001b[0;32m   1248\u001b[0m         \u001b[1;32melse\u001b[0m\u001b[1;33m:\u001b[0m\u001b[1;33m\u001b[0m\u001b[1;33m\u001b[0m\u001b[0m\n\u001b[0;32m   1249\u001b[0m             \u001b[1;32mraise\u001b[0m \u001b[0mCannotSendHeader\u001b[0m\u001b[1;33m(\u001b[0m\u001b[1;33m)\u001b[0m\u001b[1;33m\u001b[0m\u001b[1;33m\u001b[0m\u001b[0m\n\u001b[1;32m-> 1250\u001b[1;33m         \u001b[0mself\u001b[0m\u001b[1;33m.\u001b[0m\u001b[0m_send_output\u001b[0m\u001b[1;33m(\u001b[0m\u001b[0mmessage_body\u001b[0m\u001b[1;33m,\u001b[0m \u001b[0mencode_chunked\u001b[0m\u001b[1;33m=\u001b[0m\u001b[0mencode_chunked\u001b[0m\u001b[1;33m)\u001b[0m\u001b[1;33m\u001b[0m\u001b[1;33m\u001b[0m\u001b[0m\n\u001b[0m\u001b[0;32m   1251\u001b[0m \u001b[1;33m\u001b[0m\u001b[0m\n\u001b[0;32m   1252\u001b[0m     def request(self, method, url, body=None, headers={}, *,\n",
      "\u001b[1;32m~\\anaconda3\\lib\\http\\client.py\u001b[0m in \u001b[0;36m_send_output\u001b[1;34m(self, message_body, encode_chunked)\u001b[0m\n\u001b[0;32m   1008\u001b[0m         \u001b[0mmsg\u001b[0m \u001b[1;33m=\u001b[0m \u001b[1;34mb\"\\r\\n\"\u001b[0m\u001b[1;33m.\u001b[0m\u001b[0mjoin\u001b[0m\u001b[1;33m(\u001b[0m\u001b[0mself\u001b[0m\u001b[1;33m.\u001b[0m\u001b[0m_buffer\u001b[0m\u001b[1;33m)\u001b[0m\u001b[1;33m\u001b[0m\u001b[1;33m\u001b[0m\u001b[0m\n\u001b[0;32m   1009\u001b[0m         \u001b[1;32mdel\u001b[0m \u001b[0mself\u001b[0m\u001b[1;33m.\u001b[0m\u001b[0m_buffer\u001b[0m\u001b[1;33m[\u001b[0m\u001b[1;33m:\u001b[0m\u001b[1;33m]\u001b[0m\u001b[1;33m\u001b[0m\u001b[1;33m\u001b[0m\u001b[0m\n\u001b[1;32m-> 1010\u001b[1;33m         \u001b[0mself\u001b[0m\u001b[1;33m.\u001b[0m\u001b[0msend\u001b[0m\u001b[1;33m(\u001b[0m\u001b[0mmsg\u001b[0m\u001b[1;33m)\u001b[0m\u001b[1;33m\u001b[0m\u001b[1;33m\u001b[0m\u001b[0m\n\u001b[0m\u001b[0;32m   1011\u001b[0m \u001b[1;33m\u001b[0m\u001b[0m\n\u001b[0;32m   1012\u001b[0m         \u001b[1;32mif\u001b[0m \u001b[0mmessage_body\u001b[0m \u001b[1;32mis\u001b[0m \u001b[1;32mnot\u001b[0m \u001b[1;32mNone\u001b[0m\u001b[1;33m:\u001b[0m\u001b[1;33m\u001b[0m\u001b[1;33m\u001b[0m\u001b[0m\n",
      "\u001b[1;32m~\\anaconda3\\lib\\http\\client.py\u001b[0m in \u001b[0;36msend\u001b[1;34m(self, data)\u001b[0m\n\u001b[0;32m    948\u001b[0m         \u001b[1;32mif\u001b[0m \u001b[0mself\u001b[0m\u001b[1;33m.\u001b[0m\u001b[0msock\u001b[0m \u001b[1;32mis\u001b[0m \u001b[1;32mNone\u001b[0m\u001b[1;33m:\u001b[0m\u001b[1;33m\u001b[0m\u001b[1;33m\u001b[0m\u001b[0m\n\u001b[0;32m    949\u001b[0m             \u001b[1;32mif\u001b[0m \u001b[0mself\u001b[0m\u001b[1;33m.\u001b[0m\u001b[0mauto_open\u001b[0m\u001b[1;33m:\u001b[0m\u001b[1;33m\u001b[0m\u001b[1;33m\u001b[0m\u001b[0m\n\u001b[1;32m--> 950\u001b[1;33m                 \u001b[0mself\u001b[0m\u001b[1;33m.\u001b[0m\u001b[0mconnect\u001b[0m\u001b[1;33m(\u001b[0m\u001b[1;33m)\u001b[0m\u001b[1;33m\u001b[0m\u001b[1;33m\u001b[0m\u001b[0m\n\u001b[0m\u001b[0;32m    951\u001b[0m             \u001b[1;32melse\u001b[0m\u001b[1;33m:\u001b[0m\u001b[1;33m\u001b[0m\u001b[1;33m\u001b[0m\u001b[0m\n\u001b[0;32m    952\u001b[0m                 \u001b[1;32mraise\u001b[0m \u001b[0mNotConnected\u001b[0m\u001b[1;33m(\u001b[0m\u001b[1;33m)\u001b[0m\u001b[1;33m\u001b[0m\u001b[1;33m\u001b[0m\u001b[0m\n",
      "\u001b[1;32m~\\anaconda3\\lib\\http\\client.py\u001b[0m in \u001b[0;36mconnect\u001b[1;34m(self)\u001b[0m\n\u001b[0;32m   1415\u001b[0m             \u001b[1;34m\"Connect to a host on a given (SSL) port.\"\u001b[0m\u001b[1;33m\u001b[0m\u001b[1;33m\u001b[0m\u001b[0m\n\u001b[0;32m   1416\u001b[0m \u001b[1;33m\u001b[0m\u001b[0m\n\u001b[1;32m-> 1417\u001b[1;33m             \u001b[0msuper\u001b[0m\u001b[1;33m(\u001b[0m\u001b[1;33m)\u001b[0m\u001b[1;33m.\u001b[0m\u001b[0mconnect\u001b[0m\u001b[1;33m(\u001b[0m\u001b[1;33m)\u001b[0m\u001b[1;33m\u001b[0m\u001b[1;33m\u001b[0m\u001b[0m\n\u001b[0m\u001b[0;32m   1418\u001b[0m \u001b[1;33m\u001b[0m\u001b[0m\n\u001b[0;32m   1419\u001b[0m             \u001b[1;32mif\u001b[0m \u001b[0mself\u001b[0m\u001b[1;33m.\u001b[0m\u001b[0m_tunnel_host\u001b[0m\u001b[1;33m:\u001b[0m\u001b[1;33m\u001b[0m\u001b[1;33m\u001b[0m\u001b[0m\n",
      "\u001b[1;32m~\\anaconda3\\lib\\http\\client.py\u001b[0m in \u001b[0;36mconnect\u001b[1;34m(self)\u001b[0m\n\u001b[0;32m    919\u001b[0m     \u001b[1;32mdef\u001b[0m \u001b[0mconnect\u001b[0m\u001b[1;33m(\u001b[0m\u001b[0mself\u001b[0m\u001b[1;33m)\u001b[0m\u001b[1;33m:\u001b[0m\u001b[1;33m\u001b[0m\u001b[1;33m\u001b[0m\u001b[0m\n\u001b[0;32m    920\u001b[0m         \u001b[1;34m\"\"\"Connect to the host and port specified in __init__.\"\"\"\u001b[0m\u001b[1;33m\u001b[0m\u001b[1;33m\u001b[0m\u001b[0m\n\u001b[1;32m--> 921\u001b[1;33m         self.sock = self._create_connection(\n\u001b[0m\u001b[0;32m    922\u001b[0m             (self.host,self.port), self.timeout, self.source_address)\n\u001b[0;32m    923\u001b[0m         \u001b[0mself\u001b[0m\u001b[1;33m.\u001b[0m\u001b[0msock\u001b[0m\u001b[1;33m.\u001b[0m\u001b[0msetsockopt\u001b[0m\u001b[1;33m(\u001b[0m\u001b[0msocket\u001b[0m\u001b[1;33m.\u001b[0m\u001b[0mIPPROTO_TCP\u001b[0m\u001b[1;33m,\u001b[0m \u001b[0msocket\u001b[0m\u001b[1;33m.\u001b[0m\u001b[0mTCP_NODELAY\u001b[0m\u001b[1;33m,\u001b[0m \u001b[1;36m1\u001b[0m\u001b[1;33m)\u001b[0m\u001b[1;33m\u001b[0m\u001b[1;33m\u001b[0m\u001b[0m\n",
      "\u001b[1;32m~\\anaconda3\\lib\\socket.py\u001b[0m in \u001b[0;36mcreate_connection\u001b[1;34m(address, timeout, source_address)\u001b[0m\n\u001b[0;32m    794\u001b[0m             \u001b[1;32mif\u001b[0m \u001b[0msource_address\u001b[0m\u001b[1;33m:\u001b[0m\u001b[1;33m\u001b[0m\u001b[1;33m\u001b[0m\u001b[0m\n\u001b[0;32m    795\u001b[0m                 \u001b[0msock\u001b[0m\u001b[1;33m.\u001b[0m\u001b[0mbind\u001b[0m\u001b[1;33m(\u001b[0m\u001b[0msource_address\u001b[0m\u001b[1;33m)\u001b[0m\u001b[1;33m\u001b[0m\u001b[1;33m\u001b[0m\u001b[0m\n\u001b[1;32m--> 796\u001b[1;33m             \u001b[0msock\u001b[0m\u001b[1;33m.\u001b[0m\u001b[0mconnect\u001b[0m\u001b[1;33m(\u001b[0m\u001b[0msa\u001b[0m\u001b[1;33m)\u001b[0m\u001b[1;33m\u001b[0m\u001b[1;33m\u001b[0m\u001b[0m\n\u001b[0m\u001b[0;32m    797\u001b[0m             \u001b[1;31m# Break explicitly a reference cycle\u001b[0m\u001b[1;33m\u001b[0m\u001b[1;33m\u001b[0m\u001b[1;33m\u001b[0m\u001b[0m\n\u001b[0;32m    798\u001b[0m             \u001b[0merr\u001b[0m \u001b[1;33m=\u001b[0m \u001b[1;32mNone\u001b[0m\u001b[1;33m\u001b[0m\u001b[1;33m\u001b[0m\u001b[0m\n",
      "\u001b[1;31mKeyboardInterrupt\u001b[0m: "
     ]
    }
   ],
   "source": [
    "times=[]\n",
    "prices=[]\n",
    "for year in range(2017,2021):\n",
    "    year=str(year)\n",
    "    months=['01','02','03','04','05','06','07','08','09','10','11','12']\n",
    "    for i in range(11):\n",
    "        start=year+'-'+months[i]+'-01'\n",
    "        end=year+'-'+months[i+1]+'-01'\n",
    "        url = 'https://api.nomics.com/v1/currencies/sparkline?key=63a6fb7bcdc2345fac6baed3afd92150&ids=BTC&start='+start+'T00%3A00%3A00Z&end='+end+'T00%3A00%3A00Z'\n",
    "        k=urllib.request.urlopen(url).read()\n",
    "        o=json.loads(k)\n",
    "        times+=o[0]['timestamps']\n",
    "        prices+=o[0]['prices']\n",
    "    start=year+'-'+'12'+'-02'\n",
    "    end=year+'-'+'12'+'-31'\n",
    "    url = 'https://api.nomics.com/v1/currencies/sparkline?key=63a6fb7bcdc2345fac6baed3afd92150&ids=BTC&start='+start+'T00%3A00%3A00Z&end='+end+'T00%3A00%3A00Z'\n",
    "    k=urllib.request.urlopen(url).read()\n",
    "    o=json.loads(k)\n",
    "    times+=o[0]['timestamps']\n",
    "    prices+=o[0]['prices']\n",
    "year=str(2021)\n",
    "months=['01','02','03','04','05']\n",
    "for i in range(4):\n",
    "    start=year+'-'+months[i]+'-01'\n",
    "    end=year+'-'+months[i+1]+'-01'\n",
    "    url = 'https://api.nomics.com/v1/currencies/sparkline?key=63a6fb7bcdc2345fac6baed3afd92150&ids=BTC&start='+start+'T00%3A00%3A00Z&end='+end+'T00%3A00%3A00Z'\n",
    "    k=urllib.request.urlopen(url).read()\n",
    "    o=json.loads(k)\n",
    "    times+=o[0]['timestamps']\n",
    "    prices+=o[0]['prices']\n",
    "start=year+'-'+months[4]+'-01'\n",
    "end=year+'-'+months[4]+'-18'\n",
    "url = 'https://api.nomics.com/v1/currencies/sparkline?key=63a6fb7bcdc2345fac6baed3afd92150&ids=BTC&start='+start+'T00%3A00%3A00Z&end='+end+'T00%3A00%3A00Z'\n",
    "k=urllib.request.urlopen(url).read()\n",
    "o=json.loads(k)\n",
    "times+=o[0]['timestamps']\n",
    "prices+=o[0]['prices']\n",
    "\n",
    "dict1={'timestamps':times,'value':prices}\n",
    "dfp=pd.DataFrame(dict1)\n",
    "dfp.drop_duplicates(keep='first',inplace=True)\n",
    "dfp.reset_index(inplace=True)\n",
    "dfp.drop(['index'],axis=1,inplace=True)"
   ]
  },
  {
   "cell_type": "code",
   "execution_count": 138,
   "metadata": {},
   "outputs": [
    {
     "data": {
      "text/html": [
       "<div>\n",
       "<style scoped>\n",
       "    .dataframe tbody tr th:only-of-type {\n",
       "        vertical-align: middle;\n",
       "    }\n",
       "\n",
       "    .dataframe tbody tr th {\n",
       "        vertical-align: top;\n",
       "    }\n",
       "\n",
       "    .dataframe thead th {\n",
       "        text-align: right;\n",
       "    }\n",
       "</style>\n",
       "<table border=\"1\" class=\"dataframe\">\n",
       "  <thead>\n",
       "    <tr style=\"text-align: right;\">\n",
       "      <th></th>\n",
       "      <th>timestamps</th>\n",
       "      <th>value</th>\n",
       "    </tr>\n",
       "  </thead>\n",
       "  <tbody>\n",
       "    <tr>\n",
       "      <th>0</th>\n",
       "      <td>2015-01-01T00:00:00Z</td>\n",
       "      <td>314.96052397</td>\n",
       "    </tr>\n",
       "    <tr>\n",
       "      <th>1</th>\n",
       "      <td>2015-01-02T00:00:00Z</td>\n",
       "      <td>316.11027100</td>\n",
       "    </tr>\n",
       "    <tr>\n",
       "      <th>2</th>\n",
       "      <td>2015-01-03T00:00:00Z</td>\n",
       "      <td>280.03150107</td>\n",
       "    </tr>\n",
       "    <tr>\n",
       "      <th>3</th>\n",
       "      <td>2015-01-04T00:00:00Z</td>\n",
       "      <td>264.29097737</td>\n",
       "    </tr>\n",
       "    <tr>\n",
       "      <th>4</th>\n",
       "      <td>2015-01-05T00:00:00Z</td>\n",
       "      <td>275.06343530</td>\n",
       "    </tr>\n",
       "    <tr>\n",
       "      <th>...</th>\n",
       "      <td>...</td>\n",
       "      <td>...</td>\n",
       "    </tr>\n",
       "    <tr>\n",
       "      <th>2325</th>\n",
       "      <td>2021-05-14T00:00:00Z</td>\n",
       "      <td>50012.54033871</td>\n",
       "    </tr>\n",
       "    <tr>\n",
       "      <th>2326</th>\n",
       "      <td>2021-05-15T00:00:00Z</td>\n",
       "      <td>47068.72673401</td>\n",
       "    </tr>\n",
       "    <tr>\n",
       "      <th>2327</th>\n",
       "      <td>2021-05-16T00:00:00Z</td>\n",
       "      <td>46663.09732556</td>\n",
       "    </tr>\n",
       "    <tr>\n",
       "      <th>2328</th>\n",
       "      <td>2021-05-17T00:00:00Z</td>\n",
       "      <td>43603.75355342</td>\n",
       "    </tr>\n",
       "    <tr>\n",
       "      <th>2329</th>\n",
       "      <td>2021-05-18T00:00:00Z</td>\n",
       "      <td>43447.06942543</td>\n",
       "    </tr>\n",
       "  </tbody>\n",
       "</table>\n",
       "<p>2330 rows × 2 columns</p>\n",
       "</div>"
      ],
      "text/plain": [
       "                timestamps           value\n",
       "0     2015-01-01T00:00:00Z    314.96052397\n",
       "1     2015-01-02T00:00:00Z    316.11027100\n",
       "2     2015-01-03T00:00:00Z    280.03150107\n",
       "3     2015-01-04T00:00:00Z    264.29097737\n",
       "4     2015-01-05T00:00:00Z    275.06343530\n",
       "...                    ...             ...\n",
       "2325  2021-05-14T00:00:00Z  50012.54033871\n",
       "2326  2021-05-15T00:00:00Z  47068.72673401\n",
       "2327  2021-05-16T00:00:00Z  46663.09732556\n",
       "2328  2021-05-17T00:00:00Z  43603.75355342\n",
       "2329  2021-05-18T00:00:00Z  43447.06942543\n",
       "\n",
       "[2330 rows x 2 columns]"
      ]
     },
     "execution_count": 138,
     "metadata": {},
     "output_type": "execute_result"
    }
   ],
   "source": [
    "dfp"
   ]
  },
  {
   "cell_type": "code",
   "execution_count": 139,
   "metadata": {},
   "outputs": [],
   "source": [
    "df1=dfp.reset_index()['value']"
   ]
  },
  {
   "cell_type": "markdown",
   "metadata": {},
   "source": [
    "Converting value into float type."
   ]
  },
  {
   "cell_type": "code",
   "execution_count": 140,
   "metadata": {},
   "outputs": [],
   "source": [
    "df1=pd.to_numeric(df1)"
   ]
  },
  {
   "cell_type": "code",
   "execution_count": 141,
   "metadata": {},
   "outputs": [
    {
     "data": {
      "text/plain": [
       "0         314.960524\n",
       "1         316.110271\n",
       "2         280.031501\n",
       "3         264.290977\n",
       "4         275.063435\n",
       "            ...     \n",
       "2325    50012.540339\n",
       "2326    47068.726734\n",
       "2327    46663.097326\n",
       "2328    43603.753553\n",
       "2329    43447.069425\n",
       "Name: value, Length: 2330, dtype: float64"
      ]
     },
     "execution_count": 141,
     "metadata": {},
     "output_type": "execute_result"
    }
   ],
   "source": [
    "df1"
   ]
  },
  {
   "cell_type": "code",
   "execution_count": 142,
   "metadata": {},
   "outputs": [
    {
     "data": {
      "text/plain": [
       "[<matplotlib.lines.Line2D at 0x2ce141854f0>]"
      ]
     },
     "execution_count": 142,
     "metadata": {},
     "output_type": "execute_result"
    },
    {
     "data": {
      "image/png": "[encoded data removed]",
      "text/plain": [
       "<Figure size 1440x720 with 1 Axes>"
      ]
     },
     "metadata": {
      "needs_background": "light"
     },
     "output_type": "display_data"
    }
   ],
   "source": [
    "plt.figure(figsize=(20,10))\n",
    "plt.plot(df1)"
   ]
  },
  {
   "cell_type": "code",
   "execution_count": null,
   "metadata": {},
   "outputs": [],
   "source": []
  },
  {
   "cell_type": "markdown",
   "metadata": {},
   "source": [
    "# Analysing the elon musk tweets"
   ]
  },
  {
   "cell_type": "code",
   "execution_count": 22,
   "metadata": {},
   "outputs": [],
   "source": [
    "import tweepy\n",
    "  \n",
    "# Fill the X's with the credentials obtained by \n",
    "# following the above mentioned procedure.\n",
    "consumer_key = \"RkpAIk0680Uf4cck1VL8KDlGp\" \n",
    "consumer_secret = \"uwAJt4m83ok06ctBl2uxsZEwyEKREl0UQHuNZbl42FYwDV1ooH\"\n",
    "access_key = \"717710478521159680-SGq3Pn7lJkuVGmnIGD6CY2PMF8zig59\"\n",
    "access_secret = \"Bd039c2NwDRLnCROrqsiDSGkeRnpZ4OrP5uxs77JmXfng\"\n",
    "  \n",
    "# Function to extract tweets\n",
    "def get_tweets(username):\n",
    "        auth = tweepy.OAuthHandler(consumer_key, consumer_secret)\n",
    "        auth.set_access_token(access_key, access_secret)\n",
    "        api = tweepy.API(auth)\n",
    "        number_of_tweets=5000\n",
    "        tweets = api.user_timeline(screen_name=username,count=10000)\n",
    "        yoo=[]\n",
    "        for tweet in tweepy.Cursor(api.user_timeline, id=username).items():\n",
    "            yoo.append(tweet)\n",
    "        tmp=[]\n",
    "        tmp1=[]\n",
    "        tmp2=[]\n",
    "        tmp3=[]\n",
    "        tweets_for_csv = [tweet.text for tweet in tweets] # CSV file created \n",
    "        tweets_for_csv1 = [tweet.text for tweet in yoo]\n",
    "        for j in tweets_for_csv:\n",
    "            tmp.append(j) \n",
    "        tweets_for_date = [tweet.created_at for tweet in tweets] # CSV file created \n",
    "        for j in tweets_for_csv1:\n",
    "            tmp2.append(j) \n",
    "        tweets_for_date1 = [tweet.created_at for tweet in yoo] # CSV file created \n",
    "        for j in tweets_for_date:\n",
    "            tmp1.append(j) \n",
    "        for j in tweets_for_date1:\n",
    "            tmp3.append(j) \n",
    "        return tmp,tmp1,tmp2,tmp3 "
   ]
  },
  {
   "cell_type": "code",
   "execution_count": 43,
   "metadata": {},
   "outputs": [],
   "source": [
    "def get_tweets1(username):\n",
    "        auth = tweepy.OAuthHandler(consumer_key, consumer_secret)\n",
    "        auth.set_access_token(access_key, access_secret)\n",
    "        api = tweepy.API(auth)\n",
    "        number_of_tweets=5000\n",
    "        yoo=[]\n",
    "        for tweet in tweepy.Cursor(api.user_timeline, id=username).items(250):\n",
    "            yoo.append(tweet)\n",
    "        tmp2=[]\n",
    "        tmp3=[]\n",
    "        tweets_for_csv1 = [tweet.text for tweet in yoo]\n",
    "        for j in tweets_for_csv1:\n",
    "            tmp2.append(j) \n",
    "        tweets_for_date1 = [tweet.created_at for tweet in yoo] # CSV file created \n",
    "        for j in tweets_for_date1:\n",
    "            tmp3.append(j) \n",
    "        return [tmp2,tmp3]"
   ]
  },
  {
   "cell_type": "code",
   "execution_count": 44,
   "metadata": {},
   "outputs": [],
   "source": [
    "out,out1,out2,out3=get_tweets(\"@elonmusk\") "
   ]
  },
  {
   "cell_type": "code",
   "execution_count": 45,
   "metadata": {},
   "outputs": [],
   "source": [
    "out2=get_tweets(\"@elonmusk\")"
   ]
  },
  {
   "cell_type": "code",
   "execution_count": 46,
   "metadata": {},
   "outputs": [
    {
     "data": {
      "text/plain": [
       "200"
      ]
     },
     "execution_count": 46,
     "metadata": {},
     "output_type": "execute_result"
    }
   ],
   "source": [
    "len(out2[0])"
   ]
  },
  {
   "cell_type": "code",
   "execution_count": null,
   "metadata": {},
   "outputs": [],
   "source": []
  },
  {
   "cell_type": "code",
   "execution_count": 14,
   "metadata": {},
   "outputs": [
    {
     "name": "stdout",
     "output_type": "stream",
     "text": [
      "Found\n",
      "working with doge devs to improve system transaction efficiency. potentially promising. 2021-05-13 22:45:16\n",
      "Found\n",
      "do you want tesla to accept doge? 2021-05-11 08:13:35\n",
      "Found\n",
      "spacex launching satellite doge-1 to the moon next year\n",
      "\n",
      "– mission paid for in doge\n",
      "– 1st crypto in space\n",
      "– 1st mem… https://t.co/em885jsyvx 2021-05-09 22:41:43\n",
      "Found\n",
      "the dogefather\n",
      "snl may 8 2021-04-28 06:20:47\n"
     ]
    }
   ],
   "source": [
    "for i in range(len(out)):\n",
    "    x=out[i]\n",
    "    x=x.lower()\n",
    "    if('dog' in x):\n",
    "        print('Found')\n",
    "        print(x,out1[i])\n",
    "        #j=times.index(str(out1[i])[:10]+'T00:00:00Z')\n",
    "        #print(prices[j])"
   ]
  },
  {
   "cell_type": "markdown",
   "metadata": {},
   "source": [
    "LSTM's are sensitive to scale. We have to adress this issue."
   ]
  },
  {
   "cell_type": "markdown",
   "metadata": {},
   "source": [
    "Scale factor of 10 is used"
   ]
  },
  {
   "cell_type": "code",
   "execution_count": 95,
   "metadata": {},
   "outputs": [],
   "source": [
    "dfuse=df1[2200:]/10"
   ]
  },
  {
   "cell_type": "code",
   "execution_count": 8,
   "metadata": {},
   "outputs": [],
   "source": [
    "from sklearn.preprocessing import MinMaxScaler\n",
    "scaler=MinMaxScaler(feature_range=(0,1))\n",
    "df1=scaler.fit_transform(np.array(df1).reshape(-1,1))"
   ]
  },
  {
   "cell_type": "code",
   "execution_count": 96,
   "metadata": {},
   "outputs": [
    {
     "data": {
      "text/plain": [
       "2200    0.000809\n",
       "2201    0.000864\n",
       "2202    0.000939\n",
       "2203    0.000934\n",
       "2204    0.000923\n",
       "          ...   \n",
       "2320    0.043150\n",
       "2321    0.048647\n",
       "2322    0.055663\n",
       "2323    0.054569\n",
       "2324    0.052331\n",
       "Name: value, Length: 125, dtype: float64"
      ]
     },
     "execution_count": 96,
     "metadata": {},
     "output_type": "execute_result"
    }
   ],
   "source": [
    "dfuse[:]"
   ]
  },
  {
   "cell_type": "code",
   "execution_count": 97,
   "metadata": {},
   "outputs": [],
   "source": [
    "##splitting dataset into train and test split\n",
    "training_size=int(len(dfuse)*0.97)\n",
    "test_size=len(dfuse)-training_size\n",
    "dfuse=np.array(dfuse).reshape(-1,1)\n",
    "train_data=(dfuse[0:training_size,:])\n",
    "test_data=(dfuse[training_size:len(dfuse),:1])"
   ]
  },
  {
   "cell_type": "code",
   "execution_count": null,
   "metadata": {},
   "outputs": [],
   "source": []
  },
  {
   "cell_type": "code",
   "execution_count": 98,
   "metadata": {},
   "outputs": [
    {
     "data": {
      "text/plain": [
       "(121, 4)"
      ]
     },
     "execution_count": 98,
     "metadata": {},
     "output_type": "execute_result"
    }
   ],
   "source": [
    "training_size,test_size"
   ]
  },
  {
   "cell_type": "code",
   "execution_count": 104,
   "metadata": {},
   "outputs": [],
   "source": [
    "import numpy\n",
    "# convert an array of values into a dataset matrix\n",
    "def create_dataset(dataset, time_step=1):\n",
    "    dataX, dataY = [], []\n",
    "    for i in range(len(dataset)-time_step-1):\n",
    "        a = dataset[i:(i+time_step), 0]   ###i=0, 0,1,2,3-----99   100 \n",
    "        dataX.append(a)\n",
    "        dataY.append(dataset[i + time_step, 0])\n",
    "    return numpy.array(dataX), numpy.array(dataY)"
   ]
  },
  {
   "cell_type": "code",
   "execution_count": 109,
   "metadata": {},
   "outputs": [],
   "source": [
    "# reshape into X=t,t+1,t+2,t+3 and Y=t+4\n",
    "time_step = 5\n",
    "X_train, y_train = create_dataset(train_data, time_step)\n",
    "X_test, ytest = create_dataset(test_data, time_step)"
   ]
  },
  {
   "cell_type": "code",
   "execution_count": 110,
   "metadata": {},
   "outputs": [
    {
     "name": "stdout",
     "output_type": "stream",
     "text": [
      "(115, 5)\n",
      "(115,)\n"
     ]
    },
    {
     "data": {
      "text/plain": [
       "(None, None)"
      ]
     },
     "execution_count": 110,
     "metadata": {},
     "output_type": "execute_result"
    }
   ],
   "source": [
    "print(X_train.shape), print(y_train.shape)"
   ]
  },
  {
   "cell_type": "code",
   "execution_count": 111,
   "metadata": {},
   "outputs": [
    {
     "name": "stdout",
     "output_type": "stream",
     "text": [
      "(0,)\n",
      "(0,)\n"
     ]
    },
    {
     "data": {
      "text/plain": [
       "(None, None)"
      ]
     },
     "execution_count": 111,
     "metadata": {},
     "output_type": "execute_result"
    }
   ],
   "source": [
    "print(X_test.shape), print(ytest.shape)"
   ]
  },
  {
   "cell_type": "code",
   "execution_count": 112,
   "metadata": {},
   "outputs": [
    {
     "data": {
      "text/plain": [
       "array([0.00091294, 0.00091738, 0.00090528, 0.00090503, 0.00082194,\n",
       "       0.00085116, 0.00085698, 0.00087444, 0.00083759, 0.00082589,\n",
       "       0.00074391, 0.00359314, 0.00462195, 0.00283527, 0.00369059,\n",
       "       0.00350302, 0.0031397 , 0.00368855, 0.00528743, 0.00467447,\n",
       "       0.00575722, 0.00781761, 0.00788397, 0.0070173 , 0.00727726,\n",
       "       0.00697773, 0.00698557, 0.00665135, 0.00626223, 0.0056644 ,\n",
       "       0.00536661, 0.00496039, 0.00587728, 0.00550506, 0.00543253,\n",
       "       0.00560709, 0.00536663, 0.00472953, 0.00567906, 0.00518351,\n",
       "       0.00506526, 0.0050235 , 0.0048222 , 0.00506053, 0.00505748,\n",
       "       0.00505757, 0.00501611, 0.00496134, 0.00509593, 0.00519221,\n",
       "       0.00626919, 0.00577105, 0.00559465, 0.00558686, 0.00554914,\n",
       "       0.00623821, 0.00584525, 0.00571391, 0.00587187, 0.00578388,\n",
       "       0.00574597, 0.00583943, 0.00592844, 0.00582144, 0.00550193,\n",
       "       0.0053786 , 0.00519734, 0.00514297, 0.0053997 , 0.00543932,\n",
       "       0.00536574, 0.00541161, 0.00541516, 0.00538192, 0.00626953,\n",
       "       0.00581697, 0.00568566, 0.00579693, 0.00612557, 0.00653338,\n",
       "       0.00599942, 0.00627588, 0.00628351, 0.00645674, 0.00747681,\n",
       "       0.00717486, 0.00938135, 0.01236317, 0.01812473, 0.03568153,\n",
       "       0.03220697, 0.03243356, 0.04052327, 0.03451392, 0.03183067,\n",
       "       0.02725058, 0.02508346, 0.02745197, 0.02596778, 0.02721211,\n",
       "       0.02750363, 0.03221676, 0.03088699, 0.03377032, 0.03877841,\n",
       "       0.03825568, 0.04372949, 0.05373896, 0.0643105 , 0.06152247,\n",
       "       0.06831371, 0.06590934, 0.05810373, 0.05044779, 0.04983826])"
      ]
     },
     "execution_count": 112,
     "metadata": {},
     "output_type": "execute_result"
    }
   ],
   "source": [
    "y_train"
   ]
  },
  {
   "cell_type": "markdown",
   "metadata": {},
   "source": [
    "# Model Creation"
   ]
  },
  {
   "cell_type": "code",
   "execution_count": 76,
   "metadata": {},
   "outputs": [
    {
     "name": "stderr",
     "output_type": "stream",
     "text": [
      "C:\\Users\\venka\\anaconda3\\lib\\site-packages\\google\\protobuf\\internal\\type_checkers.py:235: RuntimeWarning: coroutine 'Twint.main' was never awaited\n",
      "  class Int32ValueChecker(IntValueChecker):\n",
      "RuntimeWarning: Enable tracemalloc to get the object allocation traceback\n"
     ]
    }
   ],
   "source": [
    "from tensorflow.keras.models import Sequential\n",
    "from tensorflow.keras.layers import Dense\n",
    "from tensorflow.keras.layers import LSTM"
   ]
  },
  {
   "cell_type": "code",
   "execution_count": 18,
   "metadata": {},
   "outputs": [
    {
     "name": "stdout",
     "output_type": "stream",
     "text": [
      "Requirement already satisfied: numpy==1.19 in c:\\users\\venka\\anaconda3\\lib\\site-packages (1.19.0)\n",
      "Note: you may need to restart the kernel to use updated packages.\n"
     ]
    }
   ],
   "source": [
    "pip install numpy==1.19 --user"
   ]
  },
  {
   "cell_type": "code",
   "execution_count": 77,
   "metadata": {},
   "outputs": [
    {
     "data": {
      "text/plain": [
       "'2.4.0'"
      ]
     },
     "execution_count": 77,
     "metadata": {},
     "output_type": "execute_result"
    }
   ],
   "source": [
    "import tensorflow as tf\n",
    "\n",
    "tf.__version__"
   ]
  },
  {
   "cell_type": "code",
   "execution_count": 130,
   "metadata": {},
   "outputs": [],
   "source": [
    "model=Sequential()\n",
    "model.add(LSTM(25,return_sequences=True,input_shape=(5,1)))\n",
    "model.add(LSTM(15))\n",
    "model.add(Dense(1))\n",
    "model.compile(loss='mean_squared_error',optimizer='adam')"
   ]
  },
  {
   "cell_type": "code",
   "execution_count": 131,
   "metadata": {},
   "outputs": [
    {
     "name": "stdout",
     "output_type": "stream",
     "text": [
      "Model: \"sequential_4\"\n",
      "_________________________________________________________________\n",
      "Layer (type)                 Output Shape              Param #   \n",
      "=================================================================\n",
      "lstm_13 (LSTM)               (None, 5, 25)             2700      \n",
      "_________________________________________________________________\n",
      "lstm_14 (LSTM)               (None, 15)                2460      \n",
      "_________________________________________________________________\n",
      "dense_4 (Dense)              (None, 1)                 16        \n",
      "=================================================================\n",
      "Total params: 5,176\n",
      "Trainable params: 5,176\n",
      "Non-trainable params: 0\n",
      "_________________________________________________________________\n"
     ]
    }
   ],
   "source": [
    "model.summary()"
   ]
  },
  {
   "cell_type": "code",
   "execution_count": 114,
   "metadata": {},
   "outputs": [],
   "source": [
    "# reshape input to be [samples, time steps, features] which is required for LSTM\n",
    "X_train =X_train.reshape(X_train.shape[0],X_train.shape[1] , 1)\n",
    "#X_test = X_test.reshape(X_test.shape[0],X_test.shape[1] , 1)"
   ]
  },
  {
   "cell_type": "code",
   "execution_count": null,
   "metadata": {},
   "outputs": [],
   "source": [
    "tf.config.run_functions_eagerly(True)"
   ]
  },
  {
   "cell_type": "code",
   "execution_count": 132,
   "metadata": {},
   "outputs": [
    {
     "name": "stdout",
     "output_type": "stream",
     "text": [
      "Epoch 1/100\n",
      "2/2 [==============================] - 3s 11ms/step - loss: 2.5413e-04\n",
      "Epoch 2/100\n",
      "2/2 [==============================] - 0s 8ms/step - loss: 2.0823e-04\n",
      "Epoch 3/100\n",
      "2/2 [==============================] - 0s 5ms/step - loss: 2.3191e-04\n",
      "Epoch 4/100\n",
      "2/2 [==============================] - 0s 6ms/step - loss: 1.9380e-04\n",
      "Epoch 5/100\n",
      "2/2 [==============================] - 0s 6ms/step - loss: 1.7137e-04\n",
      "Epoch 6/100\n",
      "2/2 [==============================] - 0s 9ms/step - loss: 1.9634e-04\n",
      "Epoch 7/100\n",
      "2/2 [==============================] - 0s 9ms/step - loss: 1.7673e-04\n",
      "Epoch 8/100\n",
      "2/2 [==============================] - 0s 6ms/step - loss: 1.6828e-04\n",
      "Epoch 9/100\n",
      "2/2 [==============================] - 0s 6ms/step - loss: 1.4039e-04\n",
      "Epoch 10/100\n",
      "2/2 [==============================] - 0s 7ms/step - loss: 1.3613e-04\n",
      "Epoch 11/100\n",
      "2/2 [==============================] - 0s 6ms/step - loss: 1.3472e-04\n",
      "Epoch 12/100\n",
      "2/2 [==============================] - 0s 6ms/step - loss: 1.1398e-04\n",
      "Epoch 13/100\n",
      "2/2 [==============================] - 0s 6ms/step - loss: 1.2009e-04\n",
      "Epoch 14/100\n",
      "2/2 [==============================] - 0s 5ms/step - loss: 1.0401e-04\n",
      "Epoch 15/100\n",
      "2/2 [==============================] - 0s 6ms/step - loss: 9.6859e-05\n",
      "Epoch 16/100\n",
      "2/2 [==============================] - 0s 6ms/step - loss: 9.1161e-05\n",
      "Epoch 17/100\n",
      "2/2 [==============================] - 0s 6ms/step - loss: 7.9951e-05\n",
      "Epoch 18/100\n",
      "2/2 [==============================] - 0s 5ms/step - loss: 7.7643e-05\n",
      "Epoch 19/100\n",
      "2/2 [==============================] - 0s 7ms/step - loss: 6.9088e-05\n",
      "Epoch 20/100\n",
      "2/2 [==============================] - 0s 8ms/step - loss: 6.1946e-05\n",
      "Epoch 21/100\n",
      "2/2 [==============================] - 0s 7ms/step - loss: 6.4964e-05\n",
      "Epoch 22/100\n",
      "2/2 [==============================] - 0s 7ms/step - loss: 5.1694e-05\n",
      "Epoch 23/100\n",
      "2/2 [==============================] - 0s 6ms/step - loss: 4.7049e-05\n",
      "Epoch 24/100\n",
      "2/2 [==============================] - 0s 6ms/step - loss: 4.4581e-05\n",
      "Epoch 25/100\n",
      "2/2 [==============================] - 0s 6ms/step - loss: 3.8330e-05\n",
      "Epoch 26/100\n",
      "2/2 [==============================] - 0s 5ms/step - loss: 3.5208e-05\n",
      "Epoch 27/100\n",
      "2/2 [==============================] - 0s 6ms/step - loss: 3.9210e-05\n",
      "Epoch 28/100\n",
      "2/2 [==============================] - 0s 8ms/step - loss: 3.7770e-05\n",
      "Epoch 29/100\n",
      "2/2 [==============================] - 0s 10ms/step - loss: 3.3501e-05\n",
      "Epoch 30/100\n",
      "2/2 [==============================] - 0s 8ms/step - loss: 3.4217e-05\n",
      "Epoch 31/100\n",
      "2/2 [==============================] - 0s 8ms/step - loss: 3.5353e-05\n",
      "Epoch 32/100\n",
      "2/2 [==============================] - 0s 8ms/step - loss: 4.2281e-05\n",
      "Epoch 33/100\n",
      "2/2 [==============================] - 0s 8ms/step - loss: 3.8254e-05\n",
      "Epoch 34/100\n",
      "2/2 [==============================] - 0s 9ms/step - loss: 3.5912e-05\n",
      "Epoch 35/100\n",
      "2/2 [==============================] - 0s 7ms/step - loss: 4.3149e-05\n",
      "Epoch 36/100\n",
      "2/2 [==============================] - 0s 6ms/step - loss: 3.3798e-05\n",
      "Epoch 37/100\n",
      "2/2 [==============================] - 0s 6ms/step - loss: 4.0634e-05\n",
      "Epoch 38/100\n",
      "2/2 [==============================] - 0s 6ms/step - loss: 4.1731e-05\n",
      "Epoch 39/100\n",
      "2/2 [==============================] - 0s 5ms/step - loss: 3.7447e-05\n",
      "Epoch 40/100\n",
      "2/2 [==============================] - 0s 5ms/step - loss: 3.5773e-05\n",
      "Epoch 41/100\n",
      "2/2 [==============================] - 0s 5ms/step - loss: 3.7558e-05\n",
      "Epoch 42/100\n",
      "2/2 [==============================] - 0s 8ms/step - loss: 4.3334e-05\n",
      "Epoch 43/100\n",
      "2/2 [==============================] - 0s 9ms/step - loss: 3.6563e-05\n",
      "Epoch 44/100\n",
      "2/2 [==============================] - 0s 10ms/step - loss: 3.6981e-05\n",
      "Epoch 45/100\n",
      "2/2 [==============================] - 0s 9ms/step - loss: 3.3282e-05\n",
      "Epoch 46/100\n",
      "2/2 [==============================] - 0s 9ms/step - loss: 4.0203e-05\n",
      "Epoch 47/100\n",
      "2/2 [==============================] - 0s 8ms/step - loss: 3.8589e-05\n",
      "Epoch 48/100\n",
      "2/2 [==============================] - 0s 8ms/step - loss: 3.7509e-05\n",
      "Epoch 49/100\n",
      "2/2 [==============================] - 0s 7ms/step - loss: 3.5316e-05\n",
      "Epoch 50/100\n",
      "2/2 [==============================] - 0s 6ms/step - loss: 3.7778e-05\n",
      "Epoch 51/100\n",
      "2/2 [==============================] - 0s 6ms/step - loss: 3.0466e-05\n",
      "Epoch 52/100\n",
      "2/2 [==============================] - 0s 6ms/step - loss: 3.7299e-05\n",
      "Epoch 53/100\n",
      "2/2 [==============================] - 0s 5ms/step - loss: 2.8162e-05\n",
      "Epoch 54/100\n",
      "2/2 [==============================] - 0s 5ms/step - loss: 3.5936e-05\n",
      "Epoch 55/100\n",
      "2/2 [==============================] - 0s 7ms/step - loss: 3.4505e-05\n",
      "Epoch 56/100\n",
      "2/2 [==============================] - 0s 8ms/step - loss: 3.9148e-05\n",
      "Epoch 57/100\n",
      "2/2 [==============================] - 0s 7ms/step - loss: 3.2826e-05\n",
      "Epoch 58/100\n",
      "2/2 [==============================] - 0s 7ms/step - loss: 3.9420e-05\n",
      "Epoch 59/100\n",
      "2/2 [==============================] - 0s 5ms/step - loss: 3.2177e-05\n",
      "Epoch 60/100\n",
      "2/2 [==============================] - 0s 5ms/step - loss: 3.4925e-05\n",
      "Epoch 61/100\n",
      "2/2 [==============================] - 0s 7ms/step - loss: 3.4463e-05\n",
      "Epoch 62/100\n",
      "2/2 [==============================] - 0s 8ms/step - loss: 3.6355e-05\n",
      "Epoch 63/100\n",
      "2/2 [==============================] - 0s 7ms/step - loss: 3.0758e-05\n",
      "Epoch 64/100\n",
      "2/2 [==============================] - 0s 5ms/step - loss: 3.6145e-05\n",
      "Epoch 65/100\n",
      "2/2 [==============================] - 0s 8ms/step - loss: 3.9678e-05\n",
      "Epoch 66/100\n",
      "2/2 [==============================] - 0s 7ms/step - loss: 3.7667e-05\n",
      "Epoch 67/100\n",
      "2/2 [==============================] - 0s 11ms/step - loss: 3.5072e-05\n",
      "Epoch 68/100\n",
      "2/2 [==============================] - 0s 11ms/step - loss: 3.4579e-05\n",
      "Epoch 69/100\n",
      "2/2 [==============================] - 0s 7ms/step - loss: 3.1095e-05\n",
      "Epoch 70/100\n",
      "2/2 [==============================] - 0s 6ms/step - loss: 3.8398e-05\n",
      "Epoch 71/100\n",
      "2/2 [==============================] - 0s 8ms/step - loss: 3.3609e-05\n",
      "Epoch 72/100\n",
      "2/2 [==============================] - 0s 6ms/step - loss: 4.0471e-05\n",
      "Epoch 73/100\n",
      "2/2 [==============================] - 0s 6ms/step - loss: 3.5656e-05\n",
      "Epoch 74/100\n",
      "2/2 [==============================] - 0s 7ms/step - loss: 3.6576e-05\n",
      "Epoch 75/100\n",
      "2/2 [==============================] - 0s 8ms/step - loss: 3.5640e-05\n",
      "Epoch 76/100\n",
      "2/2 [==============================] - 0s 5ms/step - loss: 3.7685e-05\n",
      "Epoch 77/100\n",
      "2/2 [==============================] - 0s 6ms/step - loss: 3.4347e-05\n",
      "Epoch 78/100\n",
      "2/2 [==============================] - 0s 7ms/step - loss: 3.5430e-05\n",
      "Epoch 79/100\n",
      "2/2 [==============================] - 0s 7ms/step - loss: 3.0391e-05\n",
      "Epoch 80/100\n",
      "2/2 [==============================] - 0s 8ms/step - loss: 3.3706e-05\n",
      "Epoch 81/100\n",
      "2/2 [==============================] - 0s 7ms/step - loss: 3.6787e-05\n",
      "Epoch 82/100\n",
      "2/2 [==============================] - 0s 5ms/step - loss: 3.4597e-05\n",
      "Epoch 83/100\n",
      "2/2 [==============================] - 0s 6ms/step - loss: 3.8046e-05\n",
      "Epoch 84/100\n",
      "2/2 [==============================] - 0s 6ms/step - loss: 3.5324e-05\n",
      "Epoch 85/100\n",
      "2/2 [==============================] - 0s 8ms/step - loss: 3.6513e-05\n",
      "Epoch 86/100\n",
      "2/2 [==============================] - 0s 7ms/step - loss: 3.3582e-05\n",
      "Epoch 87/100\n",
      "2/2 [==============================] - 0s 5ms/step - loss: 3.8415e-05\n",
      "Epoch 88/100\n",
      "2/2 [==============================] - 0s 6ms/step - loss: 2.9597e-05\n",
      "Epoch 89/100\n",
      "2/2 [==============================] - 0s 7ms/step - loss: 3.4572e-05\n",
      "Epoch 90/100\n",
      "2/2 [==============================] - 0s 7ms/step - loss: 3.1360e-05\n",
      "Epoch 91/100\n",
      "2/2 [==============================] - 0s 9ms/step - loss: 3.5918e-05\n",
      "Epoch 92/100\n",
      "2/2 [==============================] - 0s 7ms/step - loss: 3.4712e-05\n",
      "Epoch 93/100\n",
      "2/2 [==============================] - 0s 6ms/step - loss: 3.0067e-05\n",
      "Epoch 94/100\n",
      "2/2 [==============================] - 0s 5ms/step - loss: 3.4324e-05\n",
      "Epoch 95/100\n",
      "2/2 [==============================] - 0s 6ms/step - loss: 3.4311e-05\n",
      "Epoch 96/100\n",
      "2/2 [==============================] - 0s 6ms/step - loss: 3.3108e-05\n",
      "Epoch 97/100\n",
      "2/2 [==============================] - 0s 7ms/step - loss: 3.4354e-05\n",
      "Epoch 98/100\n",
      "2/2 [==============================] - 0s 6ms/step - loss: 2.9952e-05\n",
      "Epoch 99/100\n",
      "2/2 [==============================] - 0s 6ms/step - loss: 3.5554e-05\n",
      "Epoch 100/100\n",
      "2/2 [==============================] - 0s 6ms/step - loss: 3.7758e-05\n"
     ]
    },
    {
     "data": {
      "text/plain": [
       "<tensorflow.python.keras.callbacks.History at 0x2ce1472d100>"
      ]
     },
     "execution_count": 132,
     "metadata": {},
     "output_type": "execute_result"
    }
   ],
   "source": [
    "model.fit(X_train,y_train,epochs=100,batch_size=64,verbose=1)"
   ]
  },
  {
   "cell_type": "code",
   "execution_count": 133,
   "metadata": {},
   "outputs": [],
   "source": [
    "yout=model.predict(X_train)"
   ]
  },
  {
   "cell_type": "code",
   "execution_count": 127,
   "metadata": {},
   "outputs": [
    {
     "data": {
      "text/plain": [
       "115"
      ]
     },
     "execution_count": 127,
     "metadata": {},
     "output_type": "execute_result"
    }
   ],
   "source": [
    "yout.size"
   ]
  },
  {
   "cell_type": "code",
   "execution_count": 88,
   "metadata": {},
   "outputs": [
    {
     "data": {
      "text/plain": [
       "<matplotlib.legend.Legend at 0x2ce62eda430>"
      ]
     },
     "execution_count": 88,
     "metadata": {},
     "output_type": "execute_result"
    },
    {
     "data": {
      "image/png": "[encoded data removed]",
      "text/plain": [
       "<Figure size 432x288 with 1 Axes>"
      ]
     },
     "metadata": {
      "needs_background": "light"
     },
     "output_type": "display_data"
    }
   ],
   "source": [
    "plt.plot(yout)\n",
    "plt.plot(y_train[-1*yout.size:]*10)\n",
    "plt.legend(['Predicted','Actual'])"
   ]
  },
  {
   "cell_type": "code",
   "execution_count": 94,
   "metadata": {},
   "outputs": [
    {
     "data": {
      "text/plain": [
       "<matplotlib.legend.Legend at 0x2ce72c8f3a0>"
      ]
     },
     "execution_count": 94,
     "metadata": {},
     "output_type": "execute_result"
    },
    {
     "data": {
      "image/png": "[encoded data removed]",
      "text/plain": [
       "<Figure size 432x288 with 1 Axes>"
      ]
     },
     "metadata": {
      "needs_background": "light"
     },
     "output_type": "display_data"
    }
   ],
   "source": [
    "plt.plot(yout)\n",
    "plt.plot(y_train[-1*yout.size:]*10)\n",
    "plt.legend(['Predicted','Actual'])"
   ]
  },
  {
   "cell_type": "code",
   "execution_count": 134,
   "metadata": {},
   "outputs": [
    {
     "data": {
      "text/plain": [
       "<matplotlib.legend.Legend at 0x2ce14571190>"
      ]
     },
     "execution_count": 134,
     "metadata": {},
     "output_type": "execute_result"
    },
    {
     "data": {
      "image/png": "[encoded data removed]",
      "text/plain": [
       "<Figure size 432x288 with 1 Axes>"
      ]
     },
     "metadata": {
      "needs_background": "light"
     },
     "output_type": "display_data"
    }
   ],
   "source": [
    "plt.plot(yout)\n",
    "plt.plot(y_train*10)\n",
    "plt.legend(['Predicted','Actual'])"
   ]
  },
  {
   "cell_type": "code",
   "execution_count": 145,
   "metadata": {},
   "outputs": [
    {
     "data": {
      "text/plain": [
       "(115, 1)"
      ]
     },
     "execution_count": 145,
     "metadata": {},
     "output_type": "execute_result"
    }
   ],
   "source": [
    "yout.shape"
   ]
  },
  {
   "cell_type": "code",
   "execution_count": null,
   "metadata": {},
   "outputs": [],
   "source": []
  }
 ],
 "metadata": {
  "kernelspec": {
   "display_name": "Python 3",
   "language": "python",
   "name": "python3"
  },
  "language_info": {
   "codemirror_mode": {
    "name": "ipython",
    "version": 3
   },
   "file_extension": ".py",
   "mimetype": "text/x-python",
   "name": "python",
   "nbconvert_exporter": "python",
   "pygments_lexer": "ipython3",
   "version": "3.8.5"
  }
 },
 "nbformat": 4,
 "nbformat_minor": 4
}
